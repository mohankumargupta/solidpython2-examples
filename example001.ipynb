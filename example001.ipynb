{
 "cells": [
  {
   "cell_type": "code",
   "execution_count": 27,
   "metadata": {},
   "outputs": [],
   "source": [
    "from solid2 import cube\n",
    "from jupyterscad import view_stl\n"
   ]
  },
  {
   "cell_type": "markdown",
   "metadata": {},
   "source": [
    "## Helper functions, main one is save_scad_and_stl, give it the part, it will save it as .scad and .stl"
   ]
  },
  {
   "cell_type": "code",
   "execution_count": 28,
   "metadata": {},
   "outputs": [],
   "source": [
    "import subprocess\n",
    "from pathlib import Path\n",
    "import sys\n",
    "\n",
    "openscad_location = \"C:\\\\Users\\\\Mohan\\\\scoop\\\\apps\\\\openscad-dev\\\\current\\\\openscad.exe\"\n",
    "\n",
    "def root_name():\n",
    "    filename_without_extension = Path(sys.argv[0]).with_suffix('').name\n",
    "    return filename_without_extension\n",
    "\n",
    "def save_as_scad(part, name):\n",
    "    part.save_as_scad(f\"{name}.scad\")\n",
    "\n",
    "\n",
    "def save_as_stl(name):\n",
    "    subprocess.call([openscad_location, \"-o\", f\"{name}.stl\", f\"{name}.scad\"])\n",
    "\n",
    "def save_as_scad_and_stl(part, file_base_name):\n",
    "    save_as_scad(part, file_base_name)\n",
    "    save_as_stl(file_base_name)\n",
    "    \n"
   ]
  },
  {
   "cell_type": "markdown",
   "metadata": {},
   "source": [
    "## The part itself"
   ]
  },
  {
   "cell_type": "code",
   "execution_count": null,
   "metadata": {},
   "outputs": [
    {
     "name": "stdout",
     "output_type": "stream",
     "text": [
      "['c:\\\\Users\\\\Mohan\\\\Documents\\\\melbpc\\\\solidpython-examples\\\\.venv\\\\Lib\\\\site-packages\\\\ipykernel_launcher.py', '--f=c:\\\\Users\\\\Mohan\\\\AppData\\\\Roaming\\\\jupyter\\\\runtime\\\\kernel-v33f7931acb54b16ec30c87e4f24dcb452d8fe2436.json']\n"
     ]
    }
   ],
   "source": [
    "\n",
    "\n",
    "part = cube(50)\n",
    "\n",
    "\n",
    "# Save the part as <filename>.scad and <filename>.stl\n",
    "save_as_scad_and_stl(part, file_base_name = \"example001\")\n",
    "\n",
    "\n",
    "\n"
   ]
  },
  {
   "cell_type": "markdown",
   "metadata": {},
   "source": [
    "## View the part(works inside VSCode with setup in this repo)"
   ]
  },
  {
   "cell_type": "code",
   "execution_count": 47,
   "metadata": {},
   "outputs": [
    {
     "data": {
      "application/vnd.jupyter.widget-view+json": {
       "model_id": "37f9b70ae7654bf496f0340cfe3662ab",
       "version_major": 2,
       "version_minor": 0
      },
      "text/plain": [
       "Renderer(camera=PerspectiveCamera(children=(DirectionalLight(color='white', intensity=0.7, position=(3.0, 5.0,…"
      ]
     },
     "execution_count": 47,
     "metadata": {},
     "output_type": "execute_result"
    }
   ],
   "source": [
    "view_stl(stl_file=\"example001.stl\")\n"
   ]
  },
  {
   "cell_type": "code",
   "execution_count": null,
   "metadata": {},
   "outputs": [],
   "source": []
  }
 ],
 "metadata": {
  "kernelspec": {
   "display_name": ".venv",
   "language": "python",
   "name": "python3"
  },
  "language_info": {
   "codemirror_mode": {
    "name": "ipython",
    "version": 3
   },
   "file_extension": ".py",
   "mimetype": "text/x-python",
   "name": "python",
   "nbconvert_exporter": "python",
   "pygments_lexer": "ipython3",
   "version": "3.13.0"
  }
 },
 "nbformat": 4,
 "nbformat_minor": 2
}
