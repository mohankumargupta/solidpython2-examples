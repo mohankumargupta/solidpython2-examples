{
 "cells": [
  {
   "cell_type": "code",
   "execution_count": 1,
   "metadata": {},
   "outputs": [],
   "source": [
    "from solid2 import cube\n",
    "import subprocess\n",
    "from jupyterscad import view_stl\n"
   ]
  },
  {
   "cell_type": "code",
   "execution_count": 2,
   "metadata": {},
   "outputs": [],
   "source": [
    "def save_as_stl():\n",
    "    subprocess.call([\"C:\\\\Users\\\\Mohan\\\\scoop\\\\apps\\\\openscad-dev\\\\current\\\\openscad.exe\", \"-o\", \"example001.stl\", \"example001.scad\"])\n"
   ]
  },
  {
   "cell_type": "code",
   "execution_count": 3,
   "metadata": {},
   "outputs": [],
   "source": [
    "\n",
    "\n",
    "\n",
    "part = cube(5)\n",
    "part.save_as_scad(filename=\"example001.scad\")\n",
    "save_as_stl()\n",
    "\n",
    "\n",
    "#view(obj=part, outfile=\"example001jupyter.scad\", openscad_exec=\"C:\\\\Users\\\\Mohan\\\\scoop\\\\apps\\\\openscad-dev\\\\current\\\\openscad.exe\")"
   ]
  },
  {
   "cell_type": "code",
   "execution_count": 4,
   "metadata": {},
   "outputs": [
    {
     "data": {
      "application/vnd.jupyter.widget-view+json": {
       "model_id": "6852678307c647dbb87323921d683341",
       "version_major": 2,
       "version_minor": 0
      },
      "text/plain": [
       "Renderer(camera=PerspectiveCamera(children=(DirectionalLight(color='white', intensity=0.7, position=(3.0, 5.0,…"
      ]
     },
     "execution_count": 4,
     "metadata": {},
     "output_type": "execute_result"
    }
   ],
   "source": [
    "view_stl(stl_file=\"example001.stl\")\n"
   ]
  },
  {
   "cell_type": "code",
   "execution_count": null,
   "metadata": {},
   "outputs": [],
   "source": []
  }
 ],
 "metadata": {
  "kernelspec": {
   "display_name": ".venv",
   "language": "python",
   "name": "python3"
  },
  "language_info": {
   "codemirror_mode": {
    "name": "ipython",
    "version": 3
   },
   "file_extension": ".py",
   "mimetype": "text/x-python",
   "name": "python",
   "nbconvert_exporter": "python",
   "pygments_lexer": "ipython3",
   "version": "3.13.0"
  }
 },
 "nbformat": 4,
 "nbformat_minor": 2
}
